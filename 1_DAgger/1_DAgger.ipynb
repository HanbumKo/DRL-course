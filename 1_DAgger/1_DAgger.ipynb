{
  "nbformat": 4,
  "nbformat_minor": 0,
  "metadata": {
    "colab": {
      "name": "1_DAgger.ipynb",
      "provenance": [],
      "collapsed_sections": [],
      "authorship_tag": "ABX9TyOTfMzkcaYDvs8dMuEd89zv",
      "include_colab_link": true
    },
    "kernelspec": {
      "name": "python3",
      "display_name": "Python 3"
    },
    "accelerator": "GPU"
  },
  "cells": [
    {
      "cell_type": "markdown",
      "metadata": {
        "id": "view-in-github",
        "colab_type": "text"
      },
      "source": [
        "<a href=\"https://colab.research.google.com/github/HanbumKo/DRL-course/blob/main/1_DAgger/1_DAgger.ipynb\" target=\"_parent\"><img src=\"https://colab.research.google.com/assets/colab-badge.svg\" alt=\"Open In Colab\"/></a>"
      ]
    },
    {
      "cell_type": "markdown",
      "metadata": {
        "id": "agsqC-1kugOj"
      },
      "source": [
        "# DAgger\n",
        "\n",
        "![dagger_algorithm](https://github.com/UNIST-LIM-Lab/DRL-course/blob/main/1_DAgger/images/dagger.png?raw=true)\n",
        "\n",
        "DAgger를 구현하기 위해서는 expert model이 필요한데, DQN으로 학습된 CartPole 모델을 expert model로 사용하도록 하겠습니다.\n",
        "\n",
        "사용할 pretrained model의 weight는 심층강화학습 수업 Github 레포지토리에 저장되어 있습니다.\n",
        "\n",
        "Colab에서 Linux 명령어 사용 시 앞에 !를 붙여주어 사용할 수 있습니다."
      ]
    },
    {
      "cell_type": "code",
      "metadata": {
        "id": "11JEapvnn73w"
      },
      "source": [
        "!wget https://github.com/UNIST-LIM-Lab/DRL-course/raw/main/1_DAgger/weight/cartpole_expert.pt"
      ],
      "execution_count": null,
      "outputs": []
    },
    {
      "cell_type": "markdown",
      "metadata": {
        "id": "maOi13xnw8fN"
      },
      "source": [
        "다운로드가 완료되었으면 구현에 필요한 라이브러리들을 import 합니다."
      ]
    },
    {
      "cell_type": "code",
      "metadata": {
        "id": "VDmOFVJWooLU"
      },
      "source": [
        "import gym\n",
        "import torch\n",
        "import random\n",
        "import numpy as np\n",
        "import torch.nn as nn\n",
        "import torch.nn.functional as F\n",
        "import torch.optim as optim"
      ],
      "execution_count": 2,
      "outputs": []
    },
    {
      "cell_type": "markdown",
      "metadata": {
        "id": "rA8DwHTWxOzg"
      },
      "source": [
        "jupyter notebook에서 matplotlib을 사용하기 위해 필요한 함수도 import합니다."
      ]
    },
    {
      "cell_type": "code",
      "metadata": {
        "id": "keJCfIFLqiET"
      },
      "source": [
        "from IPython.display import clear_output\n",
        "import matplotlib.pyplot as plt\n",
        "%matplotlib inline"
      ],
      "execution_count": 3,
      "outputs": []
    },
    {
      "cell_type": "markdown",
      "metadata": {
        "id": "Ya1NQmGvxqR2"
      },
      "source": [
        "expert model로 사용할 뉴럴넷 모델입니다. (4 -> 64 -> 128 -> 2)의 구조를 가집니다.\n",
        "\n",
        "get_action() 함수를 통해 환경에 들어가는 int형의 action을 받을 수 있으며 get_output() 함수를 통해 model의 output을 받을 수 있습니다.\n"
      ]
    },
    {
      "cell_type": "code",
      "metadata": {
        "id": "f4dXvoeWo8MK"
      },
      "source": [
        "class DQNCartpole(nn.Module):\n",
        "    def __init__(self, obs_dim, n_actions, device):\n",
        "        super(DQNCartpole, self).__init__()\n",
        "\n",
        "        self.obs_dim = obs_dim\n",
        "        self.n_actions = n_actions\n",
        "        self.device = device\n",
        "\n",
        "        self.l1 = nn.Linear(obs_dim, 64)\n",
        "        self.l2 = nn.Linear(64, 128)\n",
        "        self.l3 = nn.Linear(128, n_actions)\n",
        "\n",
        "    def forward(self, x):\n",
        "        x = F.relu(self.l1(x))\n",
        "        x = F.relu(self.l2(x))\n",
        "        x = self.l3(x)\n",
        "\n",
        "        return x\n",
        "\n",
        "    def get_action(self, obs, epsilon=0):\n",
        "        if isinstance(obs, np.ndarray):\n",
        "            obs = torch.tensor(obs, dtype=torch.float32)\n",
        "        obs = obs.to(self.device)\n",
        "        if random.random() > epsilon:\n",
        "            with torch.no_grad():\n",
        "                q = self.forward(obs)\n",
        "                action = torch.argmax(q).item()\n",
        "        else:\n",
        "            action = random.randrange(self.n_actions)\n",
        "\n",
        "        return action\n",
        "\n",
        "    def get_output(self, obs, need_grad=True):\n",
        "        if isinstance(obs, np.ndarray):\n",
        "            obs = torch.tensor(obs, dtype=torch.float32)\n",
        "        obs = obs.to(self.device)\n",
        "        if need_grad:\n",
        "            output = self.forward(obs)\n",
        "        else:\n",
        "            with torch.no_grad():\n",
        "                output = self.forward(obs)\n",
        "\n",
        "        return output.cpu()"
      ],
      "execution_count": 4,
      "outputs": []
    },
    {
      "cell_type": "markdown",
      "metadata": {
        "id": "G5qT-P7bythl"
      },
      "source": [
        "Training 하려는 모델(trainee)의 observation과 이 observation에 대한 expert model의 output을 저장하는 Buffer입니다. store()함수를 통해 trainee의 observation, expert의 output을 저장할 수 있고, sample_batch()함수를 통해 batch data를 받아올 수 있습니다."
      ]
    },
    {
      "cell_type": "code",
      "metadata": {
        "id": "Dwe8qZlio-H6"
      },
      "source": [
        "class Buffer:\n",
        "    \"\"\"\n",
        "    reference from\n",
        "    https://github.com/openai/spinningup/blob/master/spinup/algos/pytorch/ddpg/ddpg.py\n",
        "    \"\"\"\n",
        "    def __init__(self, obs_shape, expert_output_shape, buffer_size):\n",
        "        buffer_obs_shape = tuple([buffer_size]) + obs_shape\n",
        "        buffer_expert_output_shape = tuple([buffer_size]) + expert_output_shape\n",
        "        self.obs_buf = np.zeros(buffer_obs_shape, dtype=np.float32)\n",
        "        self.expert_output_buf = np.zeros(buffer_expert_output_shape, dtype=np.float32)\n",
        "        self.pointer, self.size, self.buffer_size = 0, 0, buffer_size\n",
        "\n",
        "    def store(self, obs, expert_output):\n",
        "        self.obs_buf[self.pointer] = obs\n",
        "        self.expert_output_buf[self.pointer] = expert_output\n",
        "        self.pointer = (self.pointer+1) % self.buffer_size\n",
        "        self.size = min(self.size+1, self.buffer_size)\n",
        "\n",
        "    def sample_batch(self, batch_size=32):\n",
        "        idxs = np.random.randint(0, self.size, size=batch_size)\n",
        "        batch = dict(obs=self.obs_buf[idxs],\n",
        "                     expert_output=self.expert_output_buf[idxs])\n",
        "        return {k: torch.as_tensor(v, dtype=torch.float32) for k,v in batch.items()}\n",
        "\n",
        "    def __len__(self):\n",
        "        return self.size\n",
        "\n"
      ],
      "execution_count": 5,
      "outputs": []
    },
    {
      "cell_type": "markdown",
      "metadata": {
        "id": "ybrQsPqz09oe"
      },
      "source": [
        "model과 환경을 받아 한 에피소드를 테스트하는 함수입니다. 에피소드의 리워드를 구하여 반환해줍니다."
      ]
    },
    {
      "cell_type": "code",
      "metadata": {
        "id": "aZfEt2xRpClv"
      },
      "source": [
        "def test(model, env):\n",
        "    test_episode_reward = 0\n",
        "    obs = env.reset()\n",
        "    while True:\n",
        "        action = model.get_action(obs, 0)\n",
        "        next_obs, rew, done, _ = env.step(action)\n",
        "        test_episode_reward += rew\n",
        "        obs = next_obs\n",
        "        if done:\n",
        "            break\n",
        "\n",
        "    return test_episode_reward"
      ],
      "execution_count": 6,
      "outputs": []
    },
    {
      "cell_type": "markdown",
      "metadata": {
        "id": "4FjuULL71ZvR"
      },
      "source": [
        "Buffer에서 가져온 batch data로 trainee model을 업데이트 하는 함수입니다. Training loss를 반환합니다."
      ]
    },
    {
      "cell_type": "code",
      "metadata": {
        "id": "Ya3xN8mvpEXS"
      },
      "source": [
        "def train(trainee_model, batch, optim, loss):\n",
        "    obs = batch[\"obs\"].to(device)\n",
        "    expert_output = batch[\"expert_output\"].to(device)\n",
        "\n",
        "    trainee_output = trainee_model(obs)\n",
        "    output = loss(trainee_output, expert_output)\n",
        "\n",
        "    optim.zero_grad()\n",
        "    output.backward()\n",
        "    optim.step()\n",
        "\n",
        "    return output.item()"
      ],
      "execution_count": 7,
      "outputs": []
    },
    {
      "cell_type": "markdown",
      "metadata": {
        "id": "4WvzYK3z1iGM"
      },
      "source": [
        "matplotlib을 이용해 rewards, losses를 그래프로 보여주는 함수입니다."
      ]
    },
    {
      "cell_type": "code",
      "metadata": {
        "id": "lptrTnsWqSR0"
      },
      "source": [
        "def plot(trainee_rewards, expert_rewards, losses):\n",
        "    clear_output(True)\n",
        "    plt.figure(figsize=(20,5))\n",
        "    plt.subplot(131)\n",
        "    plt.title('reward')\n",
        "    plt.plot(trainee_rewards, label='trainee')\n",
        "    plt.plot(expert_rewards, label='expert')\n",
        "    plt.legend()\n",
        "    plt.subplot(132)\n",
        "    plt.title('loss')\n",
        "    plt.plot(losses)\n",
        "    plt.show()"
      ],
      "execution_count": 8,
      "outputs": []
    },
    {
      "cell_type": "markdown",
      "metadata": {
        "id": "pssxBv483Ohj"
      },
      "source": [
        "트레이닝에 필요한 환경, 모델, loss, optimizer 등등을 정의하는 코드입니다."
      ]
    },
    {
      "cell_type": "code",
      "metadata": {
        "id": "evk4wCE52ywZ"
      },
      "source": [
        "device = torch.device(\"cuda\") if torch.cuda.is_available() else torch.device(\"cpu\")\n",
        "\n",
        "# Make env\n",
        "train_env = gym.make(\"CartPole-v0\")\n",
        "test_env = gym.make(\"CartPole-v0\")\n",
        "\n",
        "# shape & dimension\n",
        "obs_shape = train_env.observation_space.shape\n",
        "obs_dim = obs_shape[0]\n",
        "n_actions = train_env.action_space.n\n",
        "expert_output_shape = tuple([n_actions]) # int to Tuple\n",
        "buffer_size = 1000\n",
        "\n",
        "# Expert\n",
        "expert = DQNCartpole(obs_dim=obs_dim, n_actions=n_actions, device=device)\n",
        "expert.to(device)\n",
        "expert.load_state_dict(torch.load(\"cartpole_expert.pt\", map_location=device))\n",
        "\n",
        "# Trainee\n",
        "trainee = DQNCartpole(obs_dim=obs_dim, n_actions=n_actions, device=device)\n",
        "trainee.to(device)\n",
        "\n",
        "# training\n",
        "loss = nn.MSELoss()\n",
        "optimizer = optim.SGD(trainee.parameters(), lr=0.0001)\n",
        "\n",
        "# Buffer\n",
        "trajectory_buffer = Buffer(obs_shape, expert_output_shape, buffer_size)\n",
        "\n",
        "# parameters\n",
        "N = 4000\n",
        "T = 200\n",
        "batch_size = 128\n",
        "\n",
        "# lists for saving results\n",
        "trainee_rewards = []\n",
        "expert_rewards = []\n",
        "losses = []"
      ],
      "execution_count": 9,
      "outputs": []
    },
    {
      "cell_type": "markdown",
      "metadata": {
        "id": "zks7U0wc3XDW"
      },
      "source": [
        "DAgger를 실행하는 메인 루프입니다. 총 N번의 iteration을 돌면서 trainee model을 이용해 trajectory를 구하여 버퍼에 저장하고, 이 저장한 데이터를 불러와 expert model의 아웃풋과의 결과의 차이를 줄이는 방향으로 학습하게 됩니다.\n",
        "\n",
        "Iteration이 지남에 따라 trainee 모델이 expert model을 잘 따라 학습하는 것을 그래프를 통해 확인할 수 있습니다."
      ]
    },
    {
      "cell_type": "code",
      "metadata": {
        "colab": {
          "base_uri": "https://localhost:8080/",
          "height": 336
        },
        "id": "HkPHeZWBpF9P",
        "outputId": "453c1169-cc4e-4909-ba95-d2f6186ac1eb"
      },
      "source": [
        "for i in range(N):\n",
        "    obs = train_env.reset()\n",
        "    obs_list = [obs]\n",
        "    # Sample T-step trajectories using pi_i(trainee)\n",
        "    for t in range(T):\n",
        "        action = trainee.get_action(obs, epsilon=0)\n",
        "        obs, _, done, _ = train_env.step(action)\n",
        "        obs_list.append(obs)\n",
        "        if done:\n",
        "            break\n",
        "\n",
        "    # Get dataset D_i of visited state by pi_i(trainee) and actions give by expert\n",
        "    for obs in obs_list:\n",
        "        expert_output = expert.get_output(obs, need_grad=False)\n",
        "        # Aggregate datasets\n",
        "        trajectory_buffer.store(obs, expert_output)\n",
        "\n",
        "    # Train\n",
        "    if len(trajectory_buffer) >= batch_size:\n",
        "        sampled_batch = trajectory_buffer.sample_batch(batch_size=batch_size)\n",
        "        train_loss = train(trainee, sampled_batch, optimizer, loss)\n",
        "        if i % 10 == 0:\n",
        "            losses.append(train_loss)\n",
        "\n",
        "    # Test\n",
        "    if i % 10 == 0:\n",
        "        trainee_reward = test(trainee, test_env)\n",
        "        expert_reward = test(expert, test_env)\n",
        "        trainee_rewards.append(trainee_reward)\n",
        "        expert_rewards.append(expert_reward)\n",
        "        plot(trainee_rewards, expert_rewards, losses)\n",
        "        # print(\"Trainee {}, expert {}, step {}\".format(trainee_reward, expert_reward, i))\n"
      ],
      "execution_count": 10,
      "outputs": [
        {
          "output_type": "display_data",
          "data": {
            "image/png": "[encoded data removed]",
            "text/plain": [
              "<Figure size 1440x360 with 2 Axes>"
            ]
          },
          "metadata": {
            "tags": [],
            "needs_background": "light"
          }
        }
      ]
    }
  ]
}