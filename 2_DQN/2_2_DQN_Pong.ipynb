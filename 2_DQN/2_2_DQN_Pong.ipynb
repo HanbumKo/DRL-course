{
  "nbformat": 4,
  "nbformat_minor": 0,
  "metadata": {
    "colab": {
      "name": "2_2_DQN_Pong.ipynb",
      "provenance": [],
      "collapsed_sections": [],
      "toc_visible": true,
      "authorship_tag": "ABX9TyP2fiNqxB0/YEM/aXKLTpDz",
      "include_colab_link": true
    },
    "kernelspec": {
      "name": "python3",
      "display_name": "Python 3"
    },
    "accelerator": "GPU"
  },
  "cells": [
    {
      "cell_type": "markdown",
      "metadata": {
        "id": "view-in-github",
        "colab_type": "text"
      },
      "source": [
        "<a href=\"https://colab.research.google.com/github/HanbumKo/DRL-course/blob/main/2_DQN/2_2_DQN_Pong.ipynb\" target=\"_parent\"><img src=\"https://colab.research.google.com/assets/colab-badge.svg\" alt=\"Open In Colab\"/></a>"
      ]
    },
    {
      "cell_type": "markdown",
      "metadata": {
        "id": "ZN5bc14vynjU"
      },
      "source": [
        "# **DQN**\n",
        "\n",
        "이번 노트북에서는 Atari의 Pong 환경에서 DQN을 구현해보겠습니다."
      ]
    },
    {
      "cell_type": "code",
      "metadata": {
        "colab": {
          "base_uri": "https://localhost:8080/",
          "height": 52
        },
        "id": "iUYghQHd4xTO",
        "outputId": "a8e8468d-8bad-411d-f52e-69b2ba858ca3"
      },
      "source": [
        "\"\"\"\n",
        "Reference\n",
        "https://github.com/higgsfield/RL-Adventure/blob/master/1.dqn.ipynb\n",
        "https://github.com/higgsfield/RL-Adventure/blob/master/common/wrappers.py\n",
        "https://github.com/openai/baselines/blob/master/baselines/common/atari_wrappers.py\n",
        "\"\"\""
      ],
      "execution_count": 1,
      "outputs": [
        {
          "output_type": "execute_result",
          "data": {
            "application/vnd.google.colaboratory.intrinsic+json": {
              "type": "string"
            },
            "text/plain": [
              "'\\nReference\\nhttps://github.com/higgsfield/RL-Adventure/blob/master/1.dqn.ipynb\\nhttps://github.com/higgsfield/RL-Adventure/blob/master/common/wrappers.py\\nhttps://github.com/openai/baselines/blob/master/baselines/common/atari_wrappers.py\\n'"
            ]
          },
          "metadata": {
            "tags": []
          },
          "execution_count": 1
        }
      ]
    },
    {
      "cell_type": "markdown",
      "metadata": {
        "id": "_xvczz_Hy1Wy"
      },
      "source": [
        "구현에 필요한 라이브러리들을 import 합니다."
      ]
    },
    {
      "cell_type": "code",
      "metadata": {
        "id": "_0ZWodL0c1_5"
      },
      "source": [
        "import gym\n",
        "import cv2\n",
        "import torch\n",
        "import random\n",
        "import numpy as np\n",
        "import torch.nn as nn\n",
        "import torch.nn.functional as F\n",
        "import torch.optim as optim\n",
        "from gym import spaces"
      ],
      "execution_count": 2,
      "outputs": []
    },
    {
      "cell_type": "markdown",
      "metadata": {
        "id": "kxZa7eRMy62F"
      },
      "source": [
        "jupyter notebook에서 matplotlib을 사용하기 위해 필요한 함수도 import합니다."
      ]
    },
    {
      "cell_type": "code",
      "metadata": {
        "id": "ukI4P6Eec3QB"
      },
      "source": [
        "from IPython.display import clear_output\n",
        "import matplotlib.pyplot as plt\n",
        "%matplotlib inline"
      ],
      "execution_count": 3,
      "outputs": []
    },
    {
      "cell_type": "markdown",
      "metadata": {
        "id": "2koP8Oxbdx6L"
      },
      "source": [
        "# Wrapper"
      ]
    },
    {
      "cell_type": "markdown",
      "metadata": {
        "id": "4y3diuE9AQvA"
      },
      "source": [
        "DQN 논문에서 사용된 전처리 과정을 편하게 사용할 수 있도록 도와주는 클래스와 함수들입니다.\n",
        "\n",
        "OpenAI의 gym 환경을 사용할 경우, 존재하는 환경을 원하는 부분만 변경해줄 수 있습니다.\n",
        "\n",
        "Wrapper 클래스를 정의하고 (gym.Wrapper를 상속받아 구현합니다.)\n",
        "\n",
        "```\n",
        "existingEnv = gym.make(\"env-name\")\n",
        "new_env = exampleWrapper(existingEnv)\n",
        "```\n",
        "\n",
        "와 같은 식으로 환경에 Wrapper를 씌워 수정할 수 있습니다.\n",
        "\n",
        "gym.ObservationWrapper, gym.RewardWrapper와 같이 observation이나 reward만을 수정할 수도 있고, gym.Wrapper를 통해 한꺼번에 수정할 수도 있습니다.\n",
        "\n",
        "이곳에서 사용하는 Wrapper에 대한 설명은 다음과 같습니다.\n",
        "\n",
        "NoopResetEnv : Atari에서 게임 시작 시 첫 30-40프레임 정도는 가만히 있는 경우가 있어 이 부분을 스킵하게 도와주는 Wrapper입니다.\n",
        "\n",
        "MaxAndSkipEnv : DQN 논문에서 사용하는 매 4-step씩은 같은 action으로 진행하며, 4 프레임 중 마지막 두 프레임은 합치도록 도와주는 Wrapper입니다.\n",
        "\n",
        "EpisodicLifeEnv : Episode의 끝을 한 번 죽거나 스코어가 나는것이 아닌 모든 life나 게임이 아예 끝날때로 바꿔주는 Wrapper입니다. (Pong에서는 똑같습니다)\n",
        "\n",
        "WarpFrame : Atari의 원래의 이미지 크기인 (210, 160) 사이즈의 이미지를 (84, 84)로 바꿔주는 Wrapper입니다.\n",
        "\n",
        "ClipRewardEnv : DQN 논문에서 사용한 것과 같이 리워드가 0 이상이면 1로, 0이면 0, 0 이하이면 -1로 부호만을 받도록 리워드를 설정해주는 Wrapper입니다.\n",
        "\n",
        "ImageToPyTorch : 환경에서 반환되는 state 이미지는 (210, 160, 3)로서 channel이 가장 뒤쪽에 나오도록 되있는데, 이것을 PyTorch에서 사용하기 위해 (3, 210, 160)으로 변경해주는 Wrapper입니다."
      ]
    },
    {
      "cell_type": "code",
      "metadata": {
        "id": "9paRE45hd13A"
      },
      "source": [
        "class NoopResetEnv(gym.Wrapper):\n",
        "    def __init__(self, env, noop_max=30):\n",
        "        \"\"\"Sample initial states by taking random number of no-ops on reset.\n",
        "        No-op is assumed to be action 0.\n",
        "        \"\"\"\n",
        "        gym.Wrapper.__init__(self, env)\n",
        "        self.noop_max = noop_max\n",
        "        self.override_num_noops = None\n",
        "        self.noop_action = 0\n",
        "        assert env.unwrapped.get_action_meanings()[0] == 'NOOP'\n",
        "\n",
        "    def reset(self, **kwargs):\n",
        "        \"\"\" Do no-op action for a number of steps in [1, noop_max].\"\"\"\n",
        "        self.env.reset(**kwargs)\n",
        "        if self.override_num_noops is not None:\n",
        "            noops = self.override_num_noops\n",
        "        else:\n",
        "            noops = self.unwrapped.np_random.randint(1, self.noop_max + 1) #pylint: disable=E1101\n",
        "        assert noops > 0\n",
        "        obs = None\n",
        "        for _ in range(noops):\n",
        "            obs, _, done, _ = self.env.step(self.noop_action)\n",
        "            if done:\n",
        "                obs = self.env.reset(**kwargs)\n",
        "        return obs\n",
        "\n",
        "    def step(self, ac):\n",
        "        return self.env.step(ac)"
      ],
      "execution_count": 4,
      "outputs": []
    },
    {
      "cell_type": "code",
      "metadata": {
        "id": "y5It8--4em9k"
      },
      "source": [
        "class MaxAndSkipEnv(gym.Wrapper):\n",
        "    def __init__(self, env, skip=4):\n",
        "        \"\"\"Return only every `skip`-th frame\"\"\"\n",
        "        gym.Wrapper.__init__(self, env)\n",
        "        # most recent raw observations (for max pooling across time steps)\n",
        "        self._obs_buffer = np.zeros((2,)+env.observation_space.shape, dtype=np.uint8)\n",
        "        self._skip       = skip\n",
        "\n",
        "    def reset(self):\n",
        "        return self.env.reset()\n",
        "\n",
        "    def step(self, action):\n",
        "        \"\"\"Repeat action, sum reward, and max over last observations.\"\"\"\n",
        "        total_reward = 0.0\n",
        "        done = None\n",
        "        for i in range(self._skip):\n",
        "            obs, reward, done, info = self.env.step(action)\n",
        "            if i == self._skip - 2: self._obs_buffer[0] = obs\n",
        "            if i == self._skip - 1: self._obs_buffer[1] = obs\n",
        "            total_reward += reward\n",
        "            if done:\n",
        "                break\n",
        "        # Note that the observation on the done=True frame\n",
        "        # doesn't matter\n",
        "        max_frame = self._obs_buffer.max(axis=0)\n",
        "\n",
        "        return max_frame, total_reward, done, info\n",
        "\n",
        "    def reset(self, **kwargs):\n",
        "        return self.env.reset(**kwargs)"
      ],
      "execution_count": 5,
      "outputs": []
    },
    {
      "cell_type": "code",
      "metadata": {
        "id": "eS8DtA8_eoZf"
      },
      "source": [
        "class EpisodicLifeEnv(gym.Wrapper):\n",
        "    def __init__(self, env):\n",
        "        \"\"\"Make end-of-life == end-of-episode, but only reset on true game over.\n",
        "        Done by DeepMind for the DQN and co. since it helps value estimation.\n",
        "        \"\"\"\n",
        "        gym.Wrapper.__init__(self, env)\n",
        "        self.lives = 0\n",
        "        self.was_real_done  = True\n",
        "\n",
        "    def step(self, action):\n",
        "        obs, reward, done, info = self.env.step(action)\n",
        "        self.was_real_done = done\n",
        "        # check current lives, make loss of life terminal,\n",
        "        # then update lives to handle bonus lives\n",
        "        lives = self.env.unwrapped.ale.lives()\n",
        "        if lives < self.lives and lives > 0:\n",
        "            # for Qbert sometimes we stay in lives == 0 condtion for a few frames\n",
        "            # so its important to keep lives > 0, so that we only reset once\n",
        "            # the environment advertises done.\n",
        "            done = True\n",
        "        self.lives = lives\n",
        "        return obs, reward, done, info\n",
        "\n",
        "    def reset(self, **kwargs):\n",
        "        \"\"\"Reset only when lives are exhausted.\n",
        "        This way all states are still reachable even though lives are episodic,\n",
        "        and the learner need not know about any of this behind-the-scenes.\n",
        "        \"\"\"\n",
        "        if self.was_real_done:\n",
        "            obs = self.env.reset(**kwargs)\n",
        "        else:\n",
        "            # no-op step to advance from terminal/lost life state\n",
        "            obs, _, _, _ = self.env.step(0)\n",
        "        self.lives = self.env.unwrapped.ale.lives()\n",
        "        return obs"
      ],
      "execution_count": 6,
      "outputs": []
    },
    {
      "cell_type": "code",
      "metadata": {
        "id": "eTG54wTugpPF"
      },
      "source": [
        "class WarpFrame(gym.ObservationWrapper):\n",
        "    def __init__(self, env):\n",
        "        \"\"\"Warp frames to 84x84 as done in the Nature paper and later work.\"\"\"\n",
        "        gym.ObservationWrapper.__init__(self, env)\n",
        "        self.width = 84\n",
        "        self.height = 84\n",
        "        self.observation_space = spaces.Box(low=0, high=255,\n",
        "            shape=(self.height, self.width, 1), dtype=np.uint8)\n",
        "\n",
        "    def observation(self, frame):\n",
        "        frame = cv2.cvtColor(frame, cv2.COLOR_RGB2GRAY)\n",
        "        frame = cv2.resize(frame, (self.width, self.height), interpolation=cv2.INTER_AREA)\n",
        "        return frame[:, :, None]"
      ],
      "execution_count": 7,
      "outputs": []
    },
    {
      "cell_type": "code",
      "metadata": {
        "id": "5R4czA5ngvHG"
      },
      "source": [
        "class ClipRewardEnv(gym.RewardWrapper):\n",
        "    def __init__(self, env):\n",
        "        gym.RewardWrapper.__init__(self, env)\n",
        "\n",
        "    def reward(self, reward):\n",
        "        \"\"\"Bin reward to {+1, 0, -1} by its sign.\"\"\"\n",
        "        return np.sign(reward)"
      ],
      "execution_count": 8,
      "outputs": []
    },
    {
      "cell_type": "code",
      "metadata": {
        "id": "JSnubI2whB8e"
      },
      "source": [
        "class ImageToPyTorch(gym.ObservationWrapper):\n",
        "    \"\"\"\n",
        "    Image shape to num_channels x weight x height\n",
        "    \"\"\"\n",
        "    def __init__(self, env):\n",
        "        super(ImageToPyTorch, self).__init__(env)\n",
        "        old_shape = self.observation_space.shape\n",
        "        self.observation_space = gym.spaces.Box(low=0.0, high=1.0, shape=(old_shape[-1], old_shape[0], old_shape[1]), dtype=np.uint8)\n",
        "\n",
        "    def observation(self, observation):\n",
        "        return np.swapaxes(observation, 2, 0)"
      ],
      "execution_count": 9,
      "outputs": []
    },
    {
      "cell_type": "code",
      "metadata": {
        "id": "ietapHFY34Tu"
      },
      "source": [
        "def make_atari(env_id):\n",
        "    env = gym.make(env_id)\n",
        "    assert 'NoFrameskip' in env.spec.id\n",
        "    env = NoopResetEnv(env, noop_max=30)\n",
        "    env = MaxAndSkipEnv(env, skip=4)\n",
        "    return env"
      ],
      "execution_count": 10,
      "outputs": []
    },
    {
      "cell_type": "code",
      "metadata": {
        "id": "dT2GlZLke9_Z"
      },
      "source": [
        "def wrap_deepmind(env, episode_life=True, clip_rewards=True):\n",
        "    \"\"\"Configure environment for DeepMind-style Atari.\n",
        "    \"\"\"\n",
        "    if episode_life:\n",
        "        env = EpisodicLifeEnv(env)\n",
        "    env = WarpFrame(env)\n",
        "    if clip_rewards:\n",
        "        env = ClipRewardEnv(env)\n",
        "    return env\n"
      ],
      "execution_count": 11,
      "outputs": []
    },
    {
      "cell_type": "code",
      "metadata": {
        "id": "50CeHOUKhEsR"
      },
      "source": [
        "def wrap_pytorch(env):\n",
        "    return ImageToPyTorch(env)"
      ],
      "execution_count": 12,
      "outputs": []
    },
    {
      "cell_type": "markdown",
      "metadata": {
        "id": "gKq_I6-YtSif"
      },
      "source": [
        "# Replay Buffer"
      ]
    },
    {
      "cell_type": "code",
      "metadata": {
        "id": "UuGUmBS4s5qK"
      },
      "source": [
        "class ReplayBuffer:\n",
        "    \"\"\"\n",
        "    https://github.com/openai/spinningup/blob/master/spinup/algos/pytorch/ddpg/ddpg.py\n",
        "    \"\"\"\n",
        "    def __init__(self, obs_shape, act_shape, buffer_size):\n",
        "        buffer_obs_shape = tuple([buffer_size]) + obs_shape\n",
        "        buffer_act_shape = tuple([buffer_size]) + act_shape\n",
        "        self.obs_buf = np.zeros(buffer_obs_shape, dtype=np.float32)\n",
        "        self.obs2_buf = np.zeros(buffer_obs_shape, dtype=np.float32)\n",
        "        self.act_buf = np.zeros(buffer_act_shape, dtype=np.float32)\n",
        "        self.rew_buf = np.zeros(buffer_size, dtype=np.float32)\n",
        "        self.done_buf = np.zeros(buffer_size, dtype=np.float32)\n",
        "        self.pointer, self.size, self.buffer_size = 0, 0, buffer_size\n",
        "\n",
        "    def store(self, obs, act, rew, next_obs, done):\n",
        "        self.obs_buf[self.pointer] = obs\n",
        "        self.obs2_buf[self.pointer] = next_obs\n",
        "        self.act_buf[self.pointer] = act\n",
        "        self.rew_buf[self.pointer] = rew\n",
        "        self.done_buf[self.pointer] = done\n",
        "        self.pointer = (self.pointer+1) % self.buffer_size\n",
        "        self.size = min(self.size+1, self.buffer_size)\n",
        "\n",
        "    def sample_batch(self, batch_size=32):\n",
        "        idxs = np.random.randint(0, self.size, size=batch_size)\n",
        "        batch = dict(obs=self.obs_buf[idxs],\n",
        "                     obs2=self.obs2_buf[idxs],\n",
        "                     act=self.act_buf[idxs],\n",
        "                     rew=self.rew_buf[idxs],\n",
        "                     done=self.done_buf[idxs])\n",
        "        return {k: torch.as_tensor(v, dtype=torch.float32) for k,v in batch.items()}\n",
        "\n",
        "    def __len__(self):\n",
        "        return self.size"
      ],
      "execution_count": 13,
      "outputs": []
    },
    {
      "cell_type": "markdown",
      "metadata": {
        "id": "JFulWNfRt_EA"
      },
      "source": [
        "# Model"
      ]
    },
    {
      "cell_type": "markdown",
      "metadata": {
        "id": "0byPEvttAWnf"
      },
      "source": [
        "DQN 논문에서 사용하는 모델입니다. CNN + linear를 통해 action의 갯수만큼을 모델의 아웃풋으로 내어줍니다."
      ]
    },
    {
      "cell_type": "code",
      "metadata": {
        "id": "VqvwVZ7igtFd"
      },
      "source": [
        "class DQNPong(nn.Module):\n",
        "    def __init__(self, channel_dim, n_actions, device):\n",
        "        super(DQNPong, self).__init__()\n",
        "        \n",
        "        self.channel_dim = channel_dim\n",
        "        self.n_actions = n_actions\n",
        "        self.device = device\n",
        "\n",
        "        self.c1 = nn.Conv2d(channel_dim, 32, kernel_size=8, stride=4)\n",
        "        self.c2 = nn.Conv2d(32, 64, kernel_size=4, stride=2)\n",
        "        self.c3 = nn.Conv2d(64, 64, kernel_size=3, stride=1)\n",
        "        \n",
        "        self.l1 = nn.Linear(3136, 512)\n",
        "        self.l2 = nn.Linear(512, n_actions)\n",
        "        \n",
        "    def forward(self, x):\n",
        "        x = F.relu(self.c1(x))\n",
        "        x = F.relu(self.c2(x))\n",
        "        x = F.relu(self.c3(x))\n",
        "        x = x.view(x.size(0), -1)\n",
        "        x = F.relu(self.l1(x))\n",
        "        x = self.l2(x)\n",
        "\n",
        "        return x\n",
        "    \n",
        "    def get_action(self, obs, epsilon=0):\n",
        "        if isinstance(obs, np.ndarray):\n",
        "            obs = torch.tensor(obs, dtype=torch.float32)\n",
        "        obs = torch.unsqueeze(obs, 0) # (1, 84, 84) -> (1, 1, 84, 84)\n",
        "        obs = obs.to(self.device)\n",
        "        if random.random() > epsilon:\n",
        "            with torch.no_grad():\n",
        "                q = self.forward(obs)\n",
        "                action = torch.argmax(q).item()\n",
        "        else:\n",
        "            action = random.randrange(self.n_actions)\n",
        "\n",
        "        return action\n"
      ],
      "execution_count": 14,
      "outputs": []
    },
    {
      "cell_type": "markdown",
      "metadata": {
        "id": "1QtmYRRpuEo0"
      },
      "source": [
        "# Test"
      ]
    },
    {
      "cell_type": "markdown",
      "metadata": {
        "id": "1n-hDa6BAaaZ"
      },
      "source": [
        "모델과 환경을 파라미터로 받아 한 에피소드를 테스트하는 함수입니다. 에피소드의 리워드를 구하여 반환해줍니다."
      ]
    },
    {
      "cell_type": "code",
      "metadata": {
        "id": "2dnbk_vts2q-"
      },
      "source": [
        "def test(target_q_model, env):\n",
        "    test_episode_reward = 0\n",
        "    obs = env.reset()\n",
        "    while True:\n",
        "        action = target_q_model.get_action(obs, 0)\n",
        "        next_obs, rew, done, _ = env.step(action)\n",
        "        test_episode_reward += rew\n",
        "        obs = next_obs\n",
        "        if done:\n",
        "            break\n",
        "\n",
        "    return test_episode_reward"
      ],
      "execution_count": 15,
      "outputs": []
    },
    {
      "cell_type": "markdown",
      "metadata": {
        "id": "sV95ssUwuGBO"
      },
      "source": [
        "# Train"
      ]
    },
    {
      "cell_type": "markdown",
      "metadata": {
        "id": "AOn3jB3qAfHh"
      },
      "source": [
        "Replay Buffer에서 가져온 batch data로 모델을 업데이트 하는 함수입니다. target q value와 q value 사이의 TD error를 반환합니다."
      ]
    },
    {
      "cell_type": "code",
      "metadata": {
        "id": "rcj4cbpntERZ"
      },
      "source": [
        "def train(q_model, target_q_model, batch, optim, gamma):\n",
        "    obs = batch[\"obs\"].to(device)\n",
        "    next_obs = batch[\"obs2\"].to(device)\n",
        "    act = torch.tensor(batch[\"act\"], dtype=torch.int64).to(device)\n",
        "    rew = batch[\"rew\"].to(device)\n",
        "    done = batch[\"done\"].to(device)\n",
        "\n",
        "    obs_output = q_model(obs)\n",
        "    q = torch.gather(obs_output, 1, act).squeeze(1)\n",
        "\n",
        "    with torch.no_grad():\n",
        "        next_obs_output = target_q_model(next_obs)\n",
        "        next_q = torch.max(next_obs_output, dim=1)[0]\n",
        "\n",
        "    td_target = rew + gamma * next_q * (1-done)\n",
        "    td_error = (q - td_target).pow(2).mean()\n",
        "\n",
        "    optim.zero_grad()\n",
        "    td_error.backward()\n",
        "    optim.step()\n",
        "\n",
        "    return td_error.item()"
      ],
      "execution_count": 16,
      "outputs": []
    },
    {
      "cell_type": "markdown",
      "metadata": {
        "id": "w14aL6xmtowH"
      },
      "source": [
        "# Matplotlib"
      ]
    },
    {
      "cell_type": "markdown",
      "metadata": {
        "id": "6wNUlZoHAlBG"
      },
      "source": [
        "plot() 함수에서는 test reward와, train reward, TD error, epsilon이 감소하는 것을 보여주고,\n",
        "\n",
        "show_image()함수에서는 이미지를 받아 jupyter notebook에서 확인할 수 있도록 보여줍니다."
      ]
    },
    {
      "cell_type": "code",
      "metadata": {
        "id": "jLEOX3xStK4k"
      },
      "source": [
        "def plot(test_rewards, train_rewards, td_errors, epsilons):\n",
        "    clear_output(True)\n",
        "    plt.figure(figsize=(20,5))\n",
        "    plt.subplot(231)\n",
        "    plt.title('test reward')\n",
        "    plt.plot(test_rewards)\n",
        "    plt.subplot(232)\n",
        "    plt.title('TD error')\n",
        "    plt.plot(td_errors)\n",
        "    plt.subplot(234)\n",
        "    plt.title('train reward')\n",
        "    plt.plot(train_rewards)\n",
        "    plt.subplot(235)\n",
        "    plt.title('epsilon')\n",
        "    plt.plot(epsilons)\n",
        "    plt.show()"
      ],
      "execution_count": 17,
      "outputs": []
    },
    {
      "cell_type": "code",
      "metadata": {
        "id": "h8T7oTFwtn8r"
      },
      "source": [
        "def show_image(image):\n",
        "    clear_output(True)\n",
        "    plt.imshow(image)\n",
        "    plt.show()"
      ],
      "execution_count": 18,
      "outputs": []
    },
    {
      "cell_type": "markdown",
      "metadata": {
        "id": "dmlGYfJI5Ikl"
      },
      "source": [
        "# Epsilon"
      ]
    },
    {
      "cell_type": "markdown",
      "metadata": {
        "id": "P4wRR7GRAqVH"
      },
      "source": [
        "현재 time step을 파라미터로 받아서 사용할 epsilon을 반환해주는 함수입니다. DQN 논문에서와 같이 1부터 0.1까지 linear하게 감소됩니다."
      ]
    },
    {
      "cell_type": "code",
      "metadata": {
        "id": "Wrt2c0dt5CjP"
      },
      "source": [
        "epsilon_start = 1.0\n",
        "epsilon_final = 0.1\n",
        "epsilon_decay = 30000\n",
        "\n",
        "def get_epsilon(frame_idx):\n",
        "    dec_size = (epsilon_start - epsilon_final) / epsilon_decay\n",
        "\n",
        "    return max(epsilon_start - dec_size * frame_idx, epsilon_final)\n"
      ],
      "execution_count": 19,
      "outputs": []
    },
    {
      "cell_type": "markdown",
      "metadata": {
        "id": "jK44hoKW_LYN"
      },
      "source": [
        "# Main"
      ]
    },
    {
      "cell_type": "markdown",
      "metadata": {
        "id": "X-Ng1SvDAzfP"
      },
      "source": [
        "트레이닝에 필요한 환경, 모델, loss, optimizer 등등을 정의하는 코드입니다. target q model은 q model과 같아지도록 복사해줍니다."
      ]
    },
    {
      "cell_type": "code",
      "metadata": {
        "id": "5yAjDVGIs2X_"
      },
      "source": [
        "# Save device (cpu or cuda)\n",
        "device = torch.device(\"cuda\") if torch.cuda.is_available() else torch.device(\"cpu\")\n",
        "\n",
        "# Make env\n",
        "train_env = make_atari(\"PongNoFrameskip-v4\")\n",
        "train_env = wrap_deepmind(train_env)\n",
        "train_env = wrap_pytorch(train_env)\n",
        "test_env = make_atari(\"PongNoFrameskip-v4\")\n",
        "test_env = wrap_deepmind(test_env)\n",
        "test_env = wrap_pytorch(test_env)\n",
        "\n",
        "# shape\n",
        "obs_shape = train_env.observation_space.shape # (1, 84, 84)\n",
        "n_actions = train_env.action_space.n # 6\n",
        "act_shape = tuple([1]) # int to Tuple\n",
        "channel_dim = obs_shape[0] # 1\n",
        "buffer_size = 100000\n",
        "\n",
        "# Define NN\n",
        "q_model = DQNPong(channel_dim=channel_dim, n_actions=n_actions, device=device)\n",
        "target_q_model = DQNPong(channel_dim=channel_dim, n_actions=n_actions, device=device)\n",
        "q_model.to(device)\n",
        "target_q_model.to(device)\n",
        "\n",
        "# Copy weight\n",
        "target_q_model.load_state_dict(q_model.state_dict())\n",
        "\n",
        "# Buffer & optimizer\n",
        "replay_buffer = ReplayBuffer(obs_shape, act_shape, buffer_size)\n",
        "optimizer = optim.RMSprop(q_model.parameters(), lr=0.00001)\n",
        "\n",
        "# training parameters - this is not exactly same as DQN model\n",
        "total_step = 2000000\n",
        "batch_size = 32\n",
        "gamma = 0.99\n",
        "copy_freq = 3000\n",
        "\n",
        "# lists for saving results\n",
        "test_rewards = []\n",
        "train_rewards = []\n",
        "td_errors = []\n",
        "epsilons = []"
      ],
      "execution_count": 20,
      "outputs": []
    },
    {
      "cell_type": "markdown",
      "metadata": {
        "id": "O9UnAzPP_tFq"
      },
      "source": [
        "DQN 트레이닝을 실행하는 메인 루프입니다. total_step만큼 돌면서 매 스텝마다 (S, A, R, S', done)을 Replay Buffer에 넣어주고 batch size 이상이 되면 불러와 한 번 웨이트를 업데이트 실행합니다. 매 10,000스텝 마다 테스트를 실행하며 3,000 스텝마다 target q model을 업데이트 해줍니다."
      ]
    },
    {
      "cell_type": "code",
      "metadata": {
        "colab": {
          "base_uri": "https://localhost:8080/",
          "height": 711
        },
        "id": "lDfEvDyqxWjp",
        "outputId": "8592d1a1-65f1-4672-cdc1-9617d61d40b2"
      },
      "source": [
        "episode_reward = 0\n",
        "best_test_reward = -999999\n",
        "obs = train_env.reset()\n",
        "for t in range(total_step):\n",
        "    action = q_model.get_action(obs, get_epsilon(t))\n",
        "    next_obs, rew, done, _ = train_env.step(action)\n",
        "    replay_buffer.store(obs, action, rew, next_obs, done)\n",
        "    episode_reward += rew\n",
        "    obs = next_obs\n",
        "\n",
        "    if done:\n",
        "        # print(\"episode_reward :\", episode_reward, t)\n",
        "        train_rewards.append(episode_reward)\n",
        "        epsilons.append(get_epsilon(t))\n",
        "        plot(test_rewards, train_rewards, td_errors, epsilons)\n",
        "        print(t)\n",
        "        obs = train_env.reset()\n",
        "        episode_reward = 0\n",
        "\n",
        "    # Train\n",
        "    if len(replay_buffer) > batch_size:\n",
        "        sampled_batch = replay_buffer.sample_batch(batch_size=batch_size)\n",
        "        td_error = train(q_model, target_q_model, sampled_batch, optimizer, gamma)\n",
        "        if t % 1000 == 0:\n",
        "            td_errors.append(td_error)\n",
        "    \n",
        "    # Test\n",
        "    if t % 10000 == 0:\n",
        "        test_reward = test(q_model, test_env)\n",
        "        test_rewards.append(test_reward)\n",
        "        # print(\"test reward :\", test_reward)\n",
        "        if best_test_reward <= test_reward:\n",
        "            best_test_reward = test_reward\n",
        "            torch.save(q_model.state_dict(), \"q_model.pt\")\n",
        "            torch.save(target_q_model.state_dict(), \"target_q_model.pt\")\n",
        "\n",
        "    if t % copy_freq == 0:\n",
        "        target_q_model.load_state_dict(q_model.state_dict())"
      ],
      "execution_count": 21,
      "outputs": [
        {
          "output_type": "display_data",
          "data": {
            "image/png": "[encoded data removed]",
            "text/plain": [
              "<Figure size 1440x360 with 4 Axes>"
            ]
          },
          "metadata": {
            "tags": [],
            "needs_background": "light"
          }
        },
        {
          "output_type": "stream",
          "text": [
            "1873668\n"
          ],
          "name": "stdout"
        },
        {
          "output_type": "error",
          "ename": "KeyboardInterrupt",
          "evalue": "ignored",
          "traceback": [
            "\u001b[0;31m---------------------------------------------------------------------------\u001b[0m",
            "\u001b[0;31mKeyboardInterrupt\u001b[0m                         Traceback (most recent call last)",
            "\u001b[0;32m<ipython-input-21-96ac86889979>\u001b[0m in \u001b[0;36m<module>\u001b[0;34m()\u001b[0m\n\u001b[1;32m     21\u001b[0m     \u001b[0;32mif\u001b[0m \u001b[0mlen\u001b[0m\u001b[0;34m(\u001b[0m\u001b[0mreplay_buffer\u001b[0m\u001b[0;34m)\u001b[0m \u001b[0;34m>\u001b[0m \u001b[0mbatch_size\u001b[0m\u001b[0;34m:\u001b[0m\u001b[0;34m\u001b[0m\u001b[0;34m\u001b[0m\u001b[0m\n\u001b[1;32m     22\u001b[0m         \u001b[0msampled_batch\u001b[0m \u001b[0;34m=\u001b[0m \u001b[0mreplay_buffer\u001b[0m\u001b[0;34m.\u001b[0m\u001b[0msample_batch\u001b[0m\u001b[0;34m(\u001b[0m\u001b[0mbatch_size\u001b[0m\u001b[0;34m=\u001b[0m\u001b[0mbatch_size\u001b[0m\u001b[0;34m)\u001b[0m\u001b[0;34m\u001b[0m\u001b[0;34m\u001b[0m\u001b[0m\n\u001b[0;32m---> 23\u001b[0;31m         \u001b[0mtd_error\u001b[0m \u001b[0;34m=\u001b[0m \u001b[0mtrain\u001b[0m\u001b[0;34m(\u001b[0m\u001b[0mq_model\u001b[0m\u001b[0;34m,\u001b[0m \u001b[0mtarget_q_model\u001b[0m\u001b[0;34m,\u001b[0m \u001b[0msampled_batch\u001b[0m\u001b[0;34m,\u001b[0m \u001b[0moptimizer\u001b[0m\u001b[0;34m,\u001b[0m \u001b[0mgamma\u001b[0m\u001b[0;34m)\u001b[0m\u001b[0;34m\u001b[0m\u001b[0;34m\u001b[0m\u001b[0m\n\u001b[0m\u001b[1;32m     24\u001b[0m         \u001b[0;32mif\u001b[0m \u001b[0mt\u001b[0m \u001b[0;34m%\u001b[0m \u001b[0;36m1000\u001b[0m \u001b[0;34m==\u001b[0m \u001b[0;36m0\u001b[0m\u001b[0;34m:\u001b[0m\u001b[0;34m\u001b[0m\u001b[0;34m\u001b[0m\u001b[0m\n\u001b[1;32m     25\u001b[0m             \u001b[0mtd_errors\u001b[0m\u001b[0;34m.\u001b[0m\u001b[0mappend\u001b[0m\u001b[0;34m(\u001b[0m\u001b[0mtd_error\u001b[0m\u001b[0;34m)\u001b[0m\u001b[0;34m\u001b[0m\u001b[0;34m\u001b[0m\u001b[0m\n",
            "\u001b[0;32m<ipython-input-16-dc2105057bec>\u001b[0m in \u001b[0;36mtrain\u001b[0;34m(q_model, target_q_model, batch, optim, gamma)\u001b[0m\n\u001b[1;32m     17\u001b[0m \u001b[0;34m\u001b[0m\u001b[0m\n\u001b[1;32m     18\u001b[0m     \u001b[0moptim\u001b[0m\u001b[0;34m.\u001b[0m\u001b[0mzero_grad\u001b[0m\u001b[0;34m(\u001b[0m\u001b[0;34m)\u001b[0m\u001b[0;34m\u001b[0m\u001b[0;34m\u001b[0m\u001b[0m\n\u001b[0;32m---> 19\u001b[0;31m     \u001b[0mtd_error\u001b[0m\u001b[0;34m.\u001b[0m\u001b[0mbackward\u001b[0m\u001b[0;34m(\u001b[0m\u001b[0;34m)\u001b[0m\u001b[0;34m\u001b[0m\u001b[0;34m\u001b[0m\u001b[0m\n\u001b[0m\u001b[1;32m     20\u001b[0m     \u001b[0moptim\u001b[0m\u001b[0;34m.\u001b[0m\u001b[0mstep\u001b[0m\u001b[0;34m(\u001b[0m\u001b[0;34m)\u001b[0m\u001b[0;34m\u001b[0m\u001b[0;34m\u001b[0m\u001b[0m\n\u001b[1;32m     21\u001b[0m \u001b[0;34m\u001b[0m\u001b[0m\n",
            "\u001b[0;32m/usr/local/lib/python3.7/dist-packages/torch/tensor.py\u001b[0m in \u001b[0;36mbackward\u001b[0;34m(self, gradient, retain_graph, create_graph, inputs)\u001b[0m\n\u001b[1;32m    243\u001b[0m                 \u001b[0mcreate_graph\u001b[0m\u001b[0;34m=\u001b[0m\u001b[0mcreate_graph\u001b[0m\u001b[0;34m,\u001b[0m\u001b[0;34m\u001b[0m\u001b[0;34m\u001b[0m\u001b[0m\n\u001b[1;32m    244\u001b[0m                 inputs=inputs)\n\u001b[0;32m--> 245\u001b[0;31m         \u001b[0mtorch\u001b[0m\u001b[0;34m.\u001b[0m\u001b[0mautograd\u001b[0m\u001b[0;34m.\u001b[0m\u001b[0mbackward\u001b[0m\u001b[0;34m(\u001b[0m\u001b[0mself\u001b[0m\u001b[0;34m,\u001b[0m \u001b[0mgradient\u001b[0m\u001b[0;34m,\u001b[0m \u001b[0mretain_graph\u001b[0m\u001b[0;34m,\u001b[0m \u001b[0mcreate_graph\u001b[0m\u001b[0;34m,\u001b[0m \u001b[0minputs\u001b[0m\u001b[0;34m=\u001b[0m\u001b[0minputs\u001b[0m\u001b[0;34m)\u001b[0m\u001b[0;34m\u001b[0m\u001b[0;34m\u001b[0m\u001b[0m\n\u001b[0m\u001b[1;32m    246\u001b[0m \u001b[0;34m\u001b[0m\u001b[0m\n\u001b[1;32m    247\u001b[0m     \u001b[0;32mdef\u001b[0m \u001b[0mregister_hook\u001b[0m\u001b[0;34m(\u001b[0m\u001b[0mself\u001b[0m\u001b[0;34m,\u001b[0m \u001b[0mhook\u001b[0m\u001b[0;34m)\u001b[0m\u001b[0;34m:\u001b[0m\u001b[0;34m\u001b[0m\u001b[0;34m\u001b[0m\u001b[0m\n",
            "\u001b[0;32m/usr/local/lib/python3.7/dist-packages/torch/autograd/__init__.py\u001b[0m in \u001b[0;36mbackward\u001b[0;34m(tensors, grad_tensors, retain_graph, create_graph, grad_variables, inputs)\u001b[0m\n\u001b[1;32m    145\u001b[0m     Variable._execution_engine.run_backward(\n\u001b[1;32m    146\u001b[0m         \u001b[0mtensors\u001b[0m\u001b[0;34m,\u001b[0m \u001b[0mgrad_tensors_\u001b[0m\u001b[0;34m,\u001b[0m \u001b[0mretain_graph\u001b[0m\u001b[0;34m,\u001b[0m \u001b[0mcreate_graph\u001b[0m\u001b[0;34m,\u001b[0m \u001b[0minputs\u001b[0m\u001b[0;34m,\u001b[0m\u001b[0;34m\u001b[0m\u001b[0;34m\u001b[0m\u001b[0m\n\u001b[0;32m--> 147\u001b[0;31m         allow_unreachable=True, accumulate_grad=True)  # allow_unreachable flag\n\u001b[0m\u001b[1;32m    148\u001b[0m \u001b[0;34m\u001b[0m\u001b[0m\n\u001b[1;32m    149\u001b[0m \u001b[0;34m\u001b[0m\u001b[0m\n",
            "\u001b[0;31mKeyboardInterrupt\u001b[0m: "
          ]
        }
      ]
    },
    {
      "cell_type": "markdown",
      "metadata": {
        "id": "SFt3VnYh_xxM"
      },
      "source": [
        "# Render"
      ]
    },
    {
      "cell_type": "markdown",
      "metadata": {
        "id": "306I1eb3A31p"
      },
      "source": [
        "저장된 q model을 불러와 트레이닝이 잘 진행됐는지 이미지로 확인합니다.\n",
        "\n",
        "오른쪽이 트레이닝 된 에이전트로, 잘 학습되어 공을 잘 넘기는 것을 확인할 수 있습니다."
      ]
    },
    {
      "cell_type": "code",
      "metadata": {
        "id": "yYr7xAZfyTVA",
        "colab": {
          "base_uri": "https://localhost:8080/",
          "height": 268
        },
        "outputId": "83e80356-fd32-41fb-f820-ed73e059d62a"
      },
      "source": [
        "#Show the image with matplotlib\n",
        "q_model.load_state_dict(torch.load(\"q_model.pt\"))\n",
        "obs = test_env.reset()\n",
        "for i in range(1000):\n",
        "    show_image(np.transpose(obs.squeeze()))\n",
        "    action = q_model.get_action(obs, 0)\n",
        "    obs, _, done, _ = test_env.step(action)\n",
        "    if done:\n",
        "        break"
      ],
      "execution_count": 22,
      "outputs": [
        {
          "output_type": "display_data",
          "data": {
            "image/png": "[encoded data removed]",
            "text/plain": [
              "<Figure size 432x288 with 1 Axes>"
            ]
          },
          "metadata": {
            "tags": [],
            "needs_background": "light"
          }
        }
      ]
    }
  ]
}