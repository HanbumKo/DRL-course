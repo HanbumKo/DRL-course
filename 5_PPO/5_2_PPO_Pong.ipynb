{
  "nbformat": 4,
  "nbformat_minor": 0,
  "metadata": {
    "colab": {
      "name": "5_2_PPO_Pong.ipynb",
      "provenance": [],
      "authorship_tag": "ABX9TyNTMkTuPPhIRQVg+aaA5MKJ",
      "include_colab_link": true
    },
    "kernelspec": {
      "name": "python3",
      "display_name": "Python 3"
    },
    "language_info": {
      "name": "python"
    },
    "accelerator": "GPU"
  },
  "cells": [
    {
      "cell_type": "markdown",
      "metadata": {
        "id": "view-in-github",
        "colab_type": "text"
      },
      "source": [
        "<a href=\"https://colab.research.google.com/github/HanbumKo/DRL-course/blob/main/5_PPO/5_2_PPO_Pong.ipynb\" target=\"_parent\"><img src=\"https://colab.research.google.com/assets/colab-badge.svg\" alt=\"Open In Colab\"/></a>"
      ]
    },
    {
      "cell_type": "markdown",
      "metadata": {
        "id": "idgC1cIqO-k1"
      },
      "source": [
        "# PPO"
      ]
    },
    {
      "cell_type": "code",
      "metadata": {
        "id": "j3WU2GOmGuVi"
      },
      "source": [
        "import gym\n",
        "import cv2\n",
        "import torch\n",
        "import random\n",
        "import numpy as np\n",
        "import torch.nn as nn\n",
        "import torch.nn.functional as F\n",
        "import torch.optim as optim\n",
        "from torch.distributions import Categorical\n",
        "from gym import spaces"
      ],
      "execution_count": 1,
      "outputs": []
    },
    {
      "cell_type": "code",
      "metadata": {
        "id": "34aF85eJG0Xf"
      },
      "source": [
        "from IPython.display import clear_output\n",
        "import matplotlib.pyplot as plt\n",
        "%matplotlib inline"
      ],
      "execution_count": 2,
      "outputs": []
    },
    {
      "cell_type": "markdown",
      "metadata": {
        "id": "bOJL6k_dPBPi"
      },
      "source": [
        "# Wrapper"
      ]
    },
    {
      "cell_type": "code",
      "metadata": {
        "id": "v8SNzfQAHce_"
      },
      "source": [
        "class NoopResetEnv(gym.Wrapper):\n",
        "    def __init__(self, env, noop_max=30):\n",
        "        \"\"\"Sample initial states by taking random number of no-ops on reset.\n",
        "        No-op is assumed to be action 0.\n",
        "        \"\"\"\n",
        "        gym.Wrapper.__init__(self, env)\n",
        "        self.noop_max = noop_max\n",
        "        self.override_num_noops = None\n",
        "        self.noop_action = 0\n",
        "        assert env.unwrapped.get_action_meanings()[0] == 'NOOP'\n",
        "\n",
        "    def reset(self, **kwargs):\n",
        "        \"\"\" Do no-op action for a number of steps in [1, noop_max].\"\"\"\n",
        "        self.env.reset(**kwargs)\n",
        "        if self.override_num_noops is not None:\n",
        "            noops = self.override_num_noops\n",
        "        else:\n",
        "            noops = self.unwrapped.np_random.randint(1, self.noop_max + 1) #pylint: disable=E1101\n",
        "        assert noops > 0\n",
        "        obs = None\n",
        "        for _ in range(noops):\n",
        "            obs, _, done, _ = self.env.step(self.noop_action)\n",
        "            if done:\n",
        "                obs = self.env.reset(**kwargs)\n",
        "        return obs\n",
        "\n",
        "    def step(self, ac):\n",
        "        return self.env.step(ac)"
      ],
      "execution_count": 4,
      "outputs": []
    },
    {
      "cell_type": "code",
      "metadata": {
        "id": "TFL_uEp6HfRa"
      },
      "source": [
        "\n",
        "class MaxAndSkipEnv(gym.Wrapper):\n",
        "    def __init__(self, env, skip=4):\n",
        "        \"\"\"Return only every `skip`-th frame\"\"\"\n",
        "        gym.Wrapper.__init__(self, env)\n",
        "        # most recent raw observations (for max pooling across time steps)\n",
        "        self._obs_buffer = np.zeros((2,)+env.observation_space.shape, dtype=np.uint8)\n",
        "        self._skip       = skip\n",
        "\n",
        "    def reset(self):\n",
        "        return self.env.reset()\n",
        "\n",
        "    def step(self, action):\n",
        "        \"\"\"Repeat action, sum reward, and max over last observations.\"\"\"\n",
        "        total_reward = 0.0\n",
        "        done = None\n",
        "        for i in range(self._skip):\n",
        "            obs, reward, done, info = self.env.step(action)\n",
        "            if i == self._skip - 2: self._obs_buffer[0] = obs\n",
        "            if i == self._skip - 1: self._obs_buffer[1] = obs\n",
        "            total_reward += reward\n",
        "            if done:\n",
        "                break\n",
        "        # Note that the observation on the done=True frame\n",
        "        # doesn't matter\n",
        "        max_frame = self._obs_buffer.max(axis=0)\n",
        "\n",
        "        return max_frame, total_reward, done, info\n",
        "\n",
        "    def reset(self, **kwargs):\n",
        "        return self.env.reset(**kwargs)"
      ],
      "execution_count": 5,
      "outputs": []
    },
    {
      "cell_type": "code",
      "metadata": {
        "id": "ImvVS_w3HhLD"
      },
      "source": [
        "class EpisodicLifeEnv(gym.Wrapper):\n",
        "    def __init__(self, env):\n",
        "        \"\"\"Make end-of-life == end-of-episode, but only reset on true game over.\n",
        "        Done by DeepMind for the DQN and co. since it helps value estimation.\n",
        "        \"\"\"\n",
        "        gym.Wrapper.__init__(self, env)\n",
        "        self.lives = 0\n",
        "        self.was_real_done  = True\n",
        "\n",
        "    def step(self, action):\n",
        "        obs, reward, done, info = self.env.step(action)\n",
        "        self.was_real_done = done\n",
        "        # check current lives, make loss of life terminal,\n",
        "        # then update lives to handle bonus lives\n",
        "        lives = self.env.unwrapped.ale.lives()\n",
        "        if lives < self.lives and lives > 0:\n",
        "            # for Qbert sometimes we stay in lives == 0 condtion for a few frames\n",
        "            # so its important to keep lives > 0, so that we only reset once\n",
        "            # the environment advertises done.\n",
        "            done = True\n",
        "        self.lives = lives\n",
        "        return obs, reward, done, info\n",
        "\n",
        "    def reset(self, **kwargs):\n",
        "        \"\"\"Reset only when lives are exhausted.\n",
        "        This way all states are still reachable even though lives are episodic,\n",
        "        and the learner need not know about any of this behind-the-scenes.\n",
        "        \"\"\"\n",
        "        if self.was_real_done:\n",
        "            obs = self.env.reset(**kwargs)\n",
        "        else:\n",
        "            # no-op step to advance from terminal/lost life state\n",
        "            obs, _, _, _ = self.env.step(0)\n",
        "        self.lives = self.env.unwrapped.ale.lives()\n",
        "        return obs"
      ],
      "execution_count": 6,
      "outputs": []
    },
    {
      "cell_type": "code",
      "metadata": {
        "id": "4XAvWP4VHj1H"
      },
      "source": [
        "class WarpFrame(gym.ObservationWrapper):\n",
        "    def __init__(self, env):\n",
        "        \"\"\"Warp frames to 84x84 as done in the Nature paper and later work.\"\"\"\n",
        "        gym.ObservationWrapper.__init__(self, env)\n",
        "        self.width = 84\n",
        "        self.height = 84\n",
        "        self.observation_space = spaces.Box(low=0, high=255,\n",
        "            shape=(self.height, self.width, 1), dtype=np.uint8)\n",
        "\n",
        "    def observation(self, frame):\n",
        "        frame = cv2.cvtColor(frame, cv2.COLOR_RGB2GRAY)\n",
        "        frame = cv2.resize(frame, (self.width, self.height), interpolation=cv2.INTER_AREA)\n",
        "        return frame[:, :, None]"
      ],
      "execution_count": 7,
      "outputs": []
    },
    {
      "cell_type": "code",
      "metadata": {
        "id": "HB66vdTCHlXA"
      },
      "source": [
        "class ClipRewardEnv(gym.RewardWrapper):\n",
        "    def __init__(self, env):\n",
        "        gym.RewardWrapper.__init__(self, env)\n",
        "\n",
        "    def reward(self, reward):\n",
        "        \"\"\"Bin reward to {+1, 0, -1} by its sign.\"\"\"\n",
        "        return np.sign(reward)"
      ],
      "execution_count": 8,
      "outputs": []
    },
    {
      "cell_type": "code",
      "metadata": {
        "id": "FuYcCsyOHnlP"
      },
      "source": [
        "class ImageToPyTorch(gym.ObservationWrapper):\n",
        "    \"\"\"\n",
        "    Image shape to num_channels x weight x height\n",
        "    \"\"\"\n",
        "    def __init__(self, env):\n",
        "        super(ImageToPyTorch, self).__init__(env)\n",
        "        old_shape = self.observation_space.shape\n",
        "        self.observation_space = gym.spaces.Box(low=0.0, high=1.0, shape=(old_shape[-1], old_shape[0], old_shape[1]), dtype=np.uint8)\n",
        "\n",
        "    def observation(self, observation):\n",
        "        return np.swapaxes(observation, 2, 0)"
      ],
      "execution_count": 9,
      "outputs": []
    },
    {
      "cell_type": "code",
      "metadata": {
        "id": "q0yQjEpmHskY"
      },
      "source": [
        "def make_atari(env_id):\n",
        "    env = gym.make(env_id)\n",
        "    assert 'NoFrameskip' in env.spec.id\n",
        "    env = NoopResetEnv(env, noop_max=30)\n",
        "    env = MaxAndSkipEnv(env, skip=4)\n",
        "    return env"
      ],
      "execution_count": 10,
      "outputs": []
    },
    {
      "cell_type": "code",
      "metadata": {
        "id": "xTg72gyaHv2z"
      },
      "source": [
        "def wrap_deepmind(env, episode_life=True, clip_rewards=True):\n",
        "    \"\"\"Configure environment for DeepMind-style Atari.\n",
        "    \"\"\"\n",
        "    if episode_life:\n",
        "        env = EpisodicLifeEnv(env)\n",
        "    env = WarpFrame(env)\n",
        "    if clip_rewards:\n",
        "        env = ClipRewardEnv(env)\n",
        "    return env"
      ],
      "execution_count": 11,
      "outputs": []
    },
    {
      "cell_type": "code",
      "metadata": {
        "id": "tUp_bpdUHxvv"
      },
      "source": [
        "def wrap_pytorch(env):\n",
        "    return ImageToPyTorch(env)"
      ],
      "execution_count": 12,
      "outputs": []
    },
    {
      "cell_type": "markdown",
      "metadata": {
        "id": "7e8I_fVUPFx-"
      },
      "source": [
        "# Replay Buffer"
      ]
    },
    {
      "cell_type": "code",
      "metadata": {
        "id": "8hOIOziHG1pu"
      },
      "source": [
        "class ReplayBuffer:\n",
        "    \"\"\"\n",
        "    https://github.com/openai/spinningup/blob/master/spinup/algos/pytorch/ddpg/ddpg.py\n",
        "    with some modifications\n",
        "    \"\"\"\n",
        "    def __init__(self, obs_shape, act_shape, buffer_size):\n",
        "        buffer_obs_shape = tuple([buffer_size]) + obs_shape\n",
        "        buffer_act_shape = tuple([buffer_size]) + act_shape\n",
        "        self.obs_buf = np.zeros(buffer_obs_shape, dtype=np.float32)\n",
        "        self.act_buf = np.zeros(buffer_act_shape, dtype=np.float32)\n",
        "        self.ret_buf = np.zeros(buffer_size, dtype=np.float32)\n",
        "        self.adv_buf = np.zeros(buffer_size, dtype=np.float32)\n",
        "        self.prob_old_buf = np.zeros(buffer_size, dtype=np.float32)\n",
        "        self.pointer, self.size, self.buffer_size = 0, 0, buffer_size\n",
        "\n",
        "    def store(self, obs, act, ret, adv, prob_old):\n",
        "        self.obs_buf[self.pointer] = obs\n",
        "        self.act_buf[self.pointer] = act\n",
        "        self.ret_buf[self.pointer] = ret\n",
        "        self.adv_buf[self.pointer] = adv\n",
        "        self.prob_old_buf[self.pointer] = prob_old\n",
        "        self.pointer = (self.pointer+1) % self.buffer_size\n",
        "        self.size = min(self.size+1, self.buffer_size)\n",
        "\n",
        "    def sample_batch(self, batch_size=32):\n",
        "        idxs = np.random.randint(0, self.size, size=batch_size)\n",
        "        batch = dict(obs=self.obs_buf[idxs],\n",
        "                     act=self.act_buf[idxs],\n",
        "                     ret=self.ret_buf[idxs],\n",
        "                     adv=self.adv_buf[idxs],\n",
        "                     prob_old=self.prob_old_buf[idxs])\n",
        "        return {k: torch.as_tensor(v, dtype=torch.float32) for k,v in batch.items()}\n",
        "\n",
        "    def __len__(self):\n",
        "        return self.size"
      ],
      "execution_count": 13,
      "outputs": []
    },
    {
      "cell_type": "markdown",
      "metadata": {
        "id": "W2W0m7HwPI_m"
      },
      "source": [
        "# Policy & value function"
      ]
    },
    {
      "cell_type": "code",
      "metadata": {
        "id": "HhEeAH1iG3uT"
      },
      "source": [
        "class PongPolicy(nn.Module):\n",
        "    def __init__(self, channel_dim, n_actions, device):\n",
        "        super(PongPolicy, self).__init__()\n",
        "\n",
        "        self.channel_dim = channel_dim\n",
        "        self.n_actions = n_actions\n",
        "        self.device = device\n",
        "\n",
        "        self.c1 = nn.Conv2d(channel_dim, 32, kernel_size=8, stride=4)\n",
        "        self.c2 = nn.Conv2d(32, 64, kernel_size=4, stride=2)\n",
        "        self.c3 = nn.Conv2d(64, 64, kernel_size=3, stride=1)\n",
        "        \n",
        "        self.l1 = nn.Linear(3136, 512)\n",
        "        self.l2 = nn.Linear(512, n_actions)\n",
        "\n",
        "    def forward(self, x):\n",
        "        x = F.relu(self.c1(x))\n",
        "        x = F.relu(self.c2(x))\n",
        "        x = F.relu(self.c3(x))\n",
        "        x = x.view(x.size(0), -1)\n",
        "        x = F.relu(self.l1(x))\n",
        "        x = self.l2(x)\n",
        "        x = F.softmax(x, dim=-1)\n",
        "\n",
        "        return x\n",
        "\n",
        "    def get_action_prob(self, obs):\n",
        "        if isinstance(obs, np.ndarray):\n",
        "            obs = torch.tensor(obs, dtype=torch.float32)\n",
        "        obs = torch.unsqueeze(obs, 0) # (1, 84, 84) -> (1, 1, 84, 84)\n",
        "        obs = obs.to(self.device)\n",
        "        output = self.forward(obs)\n",
        "        categorical = Categorical(output)\n",
        "        action = categorical.sample()\n",
        "        # logprob = categorical.log_prob(action)\n",
        "        prob = output.squeeze()[action]\n",
        "\n",
        "        return action.item(), prob"
      ],
      "execution_count": 14,
      "outputs": []
    },
    {
      "cell_type": "code",
      "metadata": {
        "id": "RltNcaffG6S-"
      },
      "source": [
        "class PongCritic(nn.Module):\n",
        "    def __init__(self, channel_dim, device):\n",
        "        super(PongCritic, self).__init__()\n",
        "\n",
        "        self.channel_dim = channel_dim\n",
        "        self.device = device\n",
        "\n",
        "        self.c1 = nn.Conv2d(channel_dim, 32, kernel_size=8, stride=4)\n",
        "        self.c2 = nn.Conv2d(32, 64, kernel_size=4, stride=2)\n",
        "        self.c3 = nn.Conv2d(64, 64, kernel_size=3, stride=1)\n",
        "        \n",
        "        self.l1 = nn.Linear(3136, 512)\n",
        "        self.l2 = nn.Linear(512, 1)\n",
        "\n",
        "    def forward(self, x):\n",
        "        x = F.relu(self.c1(x))\n",
        "        x = F.relu(self.c2(x))\n",
        "        x = F.relu(self.c3(x))\n",
        "        x = x.view(x.size(0), -1)\n",
        "        x = F.relu(self.l1(x))\n",
        "        x = self.l2(x)\n",
        "\n",
        "        return x\n",
        "    \n",
        "    def get_value(self, obs):\n",
        "        if isinstance(obs, np.ndarray):\n",
        "            obs = torch.tensor(obs, dtype=torch.float32)\n",
        "        obs = torch.unsqueeze(obs, 0) # (1, 84, 84) -> (1, 1, 84, 84)\n",
        "        obs = obs.to(self.device)\n",
        "        output = self.forward(obs)\n",
        "\n",
        "        return output"
      ],
      "execution_count": 15,
      "outputs": []
    },
    {
      "cell_type": "markdown",
      "metadata": {
        "id": "x9Juat2jPK8d"
      },
      "source": [
        "# Train"
      ]
    },
    {
      "cell_type": "code",
      "metadata": {
        "id": "Urjgz2bkG-hs"
      },
      "source": [
        "def train_pi(pi, batch, pi_optimizer, gamma, epsilon, device):\n",
        "    pi.train()\n",
        "\n",
        "    obs = batch[\"obs\"].to(device) # (batch, 4)\n",
        "    act = torch.tensor(batch[\"act\"], dtype=torch.int64).to(device) # (batch, 1)\n",
        "    adv = batch[\"adv\"].to(device) # (batch)\n",
        "    prob_old = batch[\"prob_old\"].to(device) # (batch)\n",
        "\n",
        "    pi_output = pi(obs)\n",
        "    prob = torch.gather(pi_output, 1, act).squeeze(1) # (batch)\n",
        "    \n",
        "    ratio = prob / prob_old # (batch)\n",
        "    l1 = ratio * adv # (batch)\n",
        "    l2 = torch.clip(input=ratio, min=1-epsilon, max=1+epsilon) * adv # (batch)\n",
        "    l_clip = -(torch.min(l1, l2)).mean()\n",
        "\n",
        "    pi_optimizer.zero_grad()\n",
        "    l_clip.backward()\n",
        "    pi_optimizer.step()\n"
      ],
      "execution_count": 16,
      "outputs": []
    },
    {
      "cell_type": "code",
      "metadata": {
        "id": "PYwojBffG_yY"
      },
      "source": [
        "def train_v(v, batch, v_optimizer, device):\n",
        "    v.train()\n",
        "\n",
        "    obs = batch[\"obs\"].to(device) # (batch, 4)\n",
        "    ret = batch[\"ret\"].to(device) # (batch)\n",
        "\n",
        "    v_output = v(obs).squeeze(1)\n",
        "    v_loss = (v_output - ret).pow(2).mean()\n",
        "\n",
        "    v_optimizer.zero_grad()\n",
        "    v_loss.backward()\n",
        "    v_optimizer.step()\n"
      ],
      "execution_count": 17,
      "outputs": []
    },
    {
      "cell_type": "markdown",
      "metadata": {
        "id": "NPi-OCp-PM3P"
      },
      "source": [
        "# Plot"
      ]
    },
    {
      "cell_type": "code",
      "metadata": {
        "id": "QRgHhTm4HBIM"
      },
      "source": [
        "def plot(rewards):\n",
        "    clear_output(True)\n",
        "    plt.figure(figsize=(20,5))\n",
        "    # plt.title('')\n",
        "    plt.ylabel('reward')\n",
        "    plt.xlabel('episode')\n",
        "    plt.plot(rewards)\n",
        "    plt.show()"
      ],
      "execution_count": 18,
      "outputs": []
    },
    {
      "cell_type": "markdown",
      "metadata": {
        "id": "hNfI2mffPOU7"
      },
      "source": [
        "# Main"
      ]
    },
    {
      "cell_type": "code",
      "metadata": {
        "id": "tEnTLWbKHCis"
      },
      "source": [
        "# Save device (cpu or cuda)\n",
        "device = torch.device(\"cuda\") if torch.cuda.is_available() else torch.device(\"cpu\")\n",
        "\n",
        "# Make env\n",
        "env = make_atari(\"PongNoFrameskip-v4\")\n",
        "env = wrap_deepmind(env)\n",
        "env = wrap_pytorch(env)\n",
        "\n",
        "# shape\n",
        "obs_shape = env.observation_space.shape # (1, 84, 84)\n",
        "act_shape = tuple([1]) # int to Tuple\n",
        "channel_dim = obs_shape[0] # 1\n",
        "n_actions = env.action_space.n # 6\n",
        "buffer_size = 200000\n",
        "\n",
        "# Define NN\n",
        "pi = PongPolicy(channel_dim=channel_dim, n_actions=n_actions, device=device)\n",
        "v  = PongCritic(channel_dim=channel_dim, device=device)\n",
        "pi.to(device)\n",
        "v.to(device)\n",
        "\n",
        "# Biffer & Optimizer\n",
        "replay_buffer = ReplayBuffer(obs_shape, act_shape, buffer_size)\n",
        "pi_optimizer = optim.Adam(pi.parameters(), lr=0.00001)\n",
        "v_optimizer = optim.Adam(v.parameters(), lr=0.00001)\n",
        "\n",
        "# training parameters\n",
        "total_iteration = 30000\n",
        "N = 1 # number of Actors, but here 1. No multiprocessing on this implementation.\n",
        "batch_size = 256 * N\n",
        "T = 128\n",
        "gamma = 0.99\n",
        "epsilon = 0.2\n",
        "K = 30 # Num. epochs\n",
        "\n",
        "# list for saving results\n",
        "rewards = []\n",
        "\n",
        "# temperal buffer\n",
        "obs_list = []\n",
        "act_list = []\n",
        "ret_list = []\n",
        "prob_old_list = []\n",
        "adv_list = []"
      ],
      "execution_count": 19,
      "outputs": []
    },
    {
      "cell_type": "code",
      "metadata": {
        "colab": {
          "base_uri": "https://localhost:8080/",
          "height": 517
        },
        "id": "PKoSpGqWHE7n",
        "outputId": "860deb5b-9cb1-4b36-b426-04dd254380dd"
      },
      "source": [
        "episode_reward = 0\n",
        "best_reward = -999999\n",
        "obs = env.reset()\n",
        "for i in range(total_iteration):\n",
        "    # Run policy \u0019pi_old in environment for T timesteps\n",
        "    for t in range(T):\n",
        "        with torch.no_grad(): # prob_old doesn't require any gradients\n",
        "            action, prob = pi.get_action_prob(obs)\n",
        "        next_obs, rew, done, _ = env.step(action)\n",
        "        episode_reward += rew\n",
        "        obs_list.append(obs)\n",
        "        act_list.append(action)\n",
        "        ret_list.append(rew)\n",
        "        prob_old_list.append(prob.item())\n",
        "        obs = next_obs\n",
        "        \n",
        "        if done:\n",
        "            # Save the best model\n",
        "            if best_reward <= episode_reward:\n",
        "                best_reward = episode_reward\n",
        "                torch.save(pi.state_dict(), \"pi.pt\")\n",
        "            rewards.append(episode_reward)\n",
        "            plot(rewards)\n",
        "            obs_list.append(obs) # For getting V(S_T)\n",
        "            obs = env.reset()\n",
        "            episode_reward = 0\n",
        "            break\n",
        "    \n",
        "    # Compute advantage estimates A_1 ... A_T\n",
        "    for j in range(len(ret_list)-2, -1, -1): # reverse\n",
        "        ret_list[j] += ret_list[j+1]*gamma\n",
        "    Vs_T = v.get_value(obs_list[-1]).item()\n",
        "    for t in range(len(ret_list)):\n",
        "        Vs_t = v.get_value(obs_list[t]).item()\n",
        "        adv = -Vs_t + ret_list[t] + gamma**(len(ret_list)-t)*Vs_T\n",
        "        adv_list.append(adv)\n",
        "    \n",
        "    # Save to main buffer & clear out temp buffer\n",
        "    for j in range(len(ret_list)):\n",
        "        replay_buffer.store(obs_list[j], act_list[j], ret_list[j], adv_list[j],\n",
        "                            prob_old_list[j])\n",
        "    obs_list = []\n",
        "    act_list = []\n",
        "    ret_list = []\n",
        "    prob_old_list = []\n",
        "    adv_list = []\n",
        "\n",
        "    # train pi with surrogate L_clip w.r.t. \\theta,\n",
        "    # with K epochs and minibatch size M <= NT\n",
        "    if len(replay_buffer) > batch_size:\n",
        "        for _ in range(K):\n",
        "            # Train pi & v\n",
        "            sampled_batch = replay_buffer.sample_batch(batch_size=batch_size)\n",
        "            train_pi(pi, sampled_batch, pi_optimizer, gamma, epsilon, device)\n",
        "            train_v(v, sampled_batch, v_optimizer, device)"
      ],
      "execution_count": null,
      "outputs": [
        {
          "output_type": "display_data",
          "data": {
            "image/png": "[encoded data removed]",
            "text/plain": [
              "<Figure size 1440x360 with 1 Axes>"
            ]
          },
          "metadata": {
            "tags": [],
            "needs_background": "light"
          }
        },
        {
          "output_type": "stream",
          "text": [
            "17262\n",
            "17263\n",
            "17264\n",
            "17265\n",
            "17266\n",
            "17267\n",
            "17268\n",
            "17269\n",
            "17270\n",
            "17271\n",
            "17272\n",
            "17273\n"
          ],
          "name": "stdout"
        }
      ]
    },
    {
      "cell_type": "markdown",
      "metadata": {
        "id": "HKPn9xhkPRnW"
      },
      "source": [
        "# Render"
      ]
    },
    {
      "cell_type": "code",
      "metadata": {
        "id": "3CKTHLVoHGaA"
      },
      "source": [
        "!apt update\n",
        "!apt install xvfb\n",
        "!pip install pyvirtualdisplay\n",
        "!pip install gym-notebook-wrapper"
      ],
      "execution_count": null,
      "outputs": []
    },
    {
      "cell_type": "code",
      "metadata": {
        "id": "TH8Mj5ffHIQU"
      },
      "source": [
        "import gnwrapper\n",
        "import gym\n",
        "\n",
        "env = make_atari(\"PongNoFrameskip-v4\")\n",
        "env = wrap_deepmind(env)\n",
        "env = wrap_pytorch(env)\n",
        "env = gnwrapper.LoopAnimation(env)\n",
        "\n",
        "obs = env.reset()\n",
        "for _ in range(500):\n",
        "    obs, rew, done, _ = env.step(env.action_space.sample()) # Take random action\n",
        "    env.render()\n",
        "    if done:\n",
        "        obs = env.reset()\n",
        "\n",
        "env.display()"
      ],
      "execution_count": null,
      "outputs": []
    },
    {
      "cell_type": "code",
      "metadata": {
        "id": "aBExDtVmHJyx"
      },
      "source": [
        "pi.load_state_dict(torch.load(\"pi.pt\"))\n",
        "\n",
        "env = make_atari(\"PongNoFrameskip-v4\")\n",
        "env = wrap_deepmind(env)\n",
        "env = wrap_pytorch(env)\n",
        "env = gnwrapper.LoopAnimation(env)\n",
        "\n",
        "obs = env.reset()\n",
        "for _ in range(500):\n",
        "    action, _ = pi.get_action_prob(obs)  # Take action from trained model\n",
        "    env.render()\n",
        "    obs, rew, done, _ = env.step(action)\n",
        "    if done:\n",
        "        obs = env.reset()\n",
        "\n",
        "env.display()"
      ],
      "execution_count": null,
      "outputs": []
    }
  ]
}